{
 "cells": [
  {
   "cell_type": "markdown",
   "id": "c16fd0c5",
   "metadata": {},
   "source": [
    "# Module-09-Challenge | sql-challenge | Bonus "
   ]
  },
  {
   "cell_type": "markdown",
   "id": "b1f0c423",
   "metadata": {},
   "source": [
    "font color='green'>text</font>"
   ]
  },
  {
   "cell_type": "markdown",
   "id": "7d814d50",
   "metadata": {},
   "source": [
    "As I examined the data, I begin to suspect that the dataset is fake. Maybe, This was a test for a new employee? To confirm my hunch, I decide to create a visualization of the data to present.\n",
    "\n",
    "The plan is to:\n",
    "\n",
    "       1. Import the SQL database into Pandas.\n",
    "\n",
    "       2. Create a histogram to visualize the employee salary ranges that were the most common.\n",
    "       \n",
    "       3. Create a bar chart of average salary by title."
   ]
  },
  {
   "cell_type": "code",
   "execution_count": null,
   "id": "e8988827",
   "metadata": {},
   "outputs": [],
   "source": []
  },
  {
   "cell_type": "code",
   "execution_count": null,
   "id": "60bdf08d",
   "metadata": {},
   "outputs": [],
   "source": []
  }
 ],
 "metadata": {
  "kernelspec": {
   "display_name": "Python 3 (ipykernel)",
   "language": "python",
   "name": "python3"
  },
  "language_info": {
   "codemirror_mode": {
    "name": "ipython",
    "version": 3
   },
   "file_extension": ".py",
   "mimetype": "text/x-python",
   "name": "python",
   "nbconvert_exporter": "python",
   "pygments_lexer": "ipython3",
   "version": "3.9.12"
  }
 },
 "nbformat": 4,
 "nbformat_minor": 5
}
